{
 "cells": [
  {
   "cell_type": "markdown",
   "id": "1fc9f114-db8d-41cd-8dcd-75673cefc3b0",
   "metadata": {},
   "source": [
    "<h1>Numbers</h1>"
   ]
  },
  {
   "cell_type": "markdown",
   "id": "11b56292-1e4d-4c6a-b5a7-4f12e84ea43b",
   "metadata": {},
   "source": [
    "<h4>4 types of Numbers in Python</h4>\n",
    "<ol><tt>\n",
    "    <li>Float\n",
    "    <li>Integer\n",
    "    <li>Complex\n",
    "</tt></ol>"
   ]
  },
  {
   "cell_type": "markdown",
   "id": "99a53882-a5f3-4d04-815e-8e3eb2d6bac9",
   "metadata": {},
   "source": [
    "<h5>Integer</h5>\n",
    "<li><tt>int (signed integers) − They are often called just integers or ints, are positive or negative whole numbers with no decimal point.</tt>\n"
   ]
  },
  {
   "cell_type": "code",
   "execution_count": 4,
   "id": "15d80d98-2f64-43fe-a984-b956a7991205",
   "metadata": {},
   "outputs": [
    {
     "name": "stdout",
     "output_type": "stream",
     "text": [
      "<class 'int'>\n",
      "<class 'int'>\n",
      "<class 'int'>\n"
     ]
    }
   ],
   "source": [
    "x = 1\n",
    "y = 35656222554887711\n",
    "z = -3255522\n",
    "#RANGE OF INTEGER IN A PYTHON 3.X CODE IS UNLIMITED\n",
    "print(type(x))\n",
    "print(type(y))\n",
    "print(type(z))\n",
    "#type() function is used to identify the type of the file"
   ]
  },
  {
   "cell_type": "markdown",
   "id": "dc2ebd73-4f37-4d04-9844-78ed058a1014",
   "metadata": {},
   "source": [
    "<h5>Float</h5>\n",
    "<li><tt>float (floating point real values) − Also called floats, they represent real numbers and are written with a decimal point dividing the integer and fractional parts. Floats may also be in scientific notation, with E or e indicating the power of 10 (2.5e2 = 2.5 x 102 = 250).\n",
    "\n",
    "</tt>\n"
   ]
  },
  {
   "cell_type": "code",
   "execution_count": 2,
   "id": "6b8693ea-b1ec-4035-8c69-df5e99f69b6e",
   "metadata": {},
   "outputs": [
    {
     "name": "stdout",
     "output_type": "stream",
     "text": [
      "<class 'float'>\n",
      "<class 'float'>\n",
      "<class 'float'>\n"
     ]
    }
   ],
   "source": [
    "x = 35e3 #e indicates the power of 10\n",
    "y = 4.61603106991\n",
    "z = -87.7e100\n",
    "\n",
    "print(type(x))\n",
    "print(type(y))\n",
    "print(type(z))"
   ]
  },
  {
   "cell_type": "markdown",
   "id": "61a27cdf-ff60-45ba-9268-c2fea45a4210",
   "metadata": {},
   "source": [
    "<h5>Complex</h5>\n",
    "<li><tt>complex (complex numbers) − are of the form a + bJ, where a and b are floats and J (or j) represents the square root of -1 (which is an imaginary number). The real part of the number is a, and the imaginary part is b. Complex numbers are not used much in Python programming.\n",
    "\n",
    "</tt>\n"
   ]
  },
  {
   "cell_type": "code",
   "execution_count": 12,
   "id": "4644939f-765f-47b4-b50b-de71dd07d184",
   "metadata": {},
   "outputs": [
    {
     "name": "stdout",
     "output_type": "stream",
     "text": [
      "(3.5+5j)\n",
      "<class 'complex'>\n",
      "<class 'complex'>\n",
      "<class 'complex'>\n",
      "5.0\n"
     ]
    }
   ],
   "source": [
    "#IN MATHEMATICS, WE USE i to define (-1)^1/2, in python we use J or j\n",
    "x = 3.5+5.0j\n",
    "y = 5j\n",
    "z = -5j\n",
    "print(x+y+z)\n",
    "print(type(x))\n",
    "print(type(y))\n",
    "print(type(z))\n",
    "#to get the real part we use .real, similarly to get the imaginary part we use .imag\n",
    "#Complex numbers can also be created by using complex(real, imaginary) function...\n",
    "#For Example - x = complex(5,2) #5 + 2j"
   ]
  },
  {
   "cell_type": "markdown",
   "id": "d1343671-243e-4e75-84fa-48d31c3e28ec",
   "metadata": {},
   "source": [
    "<tt><strong>Exercise 1:</strong>Given two integer numbers return their product. If the product is greater than 1000, then return their sum"
   ]
  },
  {
   "cell_type": "code",
   "execution_count": 14,
   "id": "f727cdcf-c7d1-4460-9986-bf27b6ff8eea",
   "metadata": {},
   "outputs": [
    {
     "name": "stdin",
     "output_type": "stream",
     "text": [
      "Enter x- 500\n",
      "Enter y- 20\n"
     ]
    },
    {
     "name": "stdout",
     "output_type": "stream",
     "text": [
      "520\n"
     ]
    }
   ],
   "source": [
    "#get integer x\n",
    "#get integer y\n",
    "#iff(if and only if) product > 1000 then print x + y\n",
    "#else print product\n",
    "x = int(input(\"Enter x-\"))\n",
    "y = int(input(\"Enter y-\"))\n",
    "prod = x * y\n",
    "if(prod > 1000):\n",
    "    print(x + y)\n",
    "else:\n",
    "    print(prod)"
   ]
  },
  {
   "cell_type": "markdown",
   "id": "f3b7de0f-c95e-4cf8-ae28-6ea5b2c59e8e",
   "metadata": {},
   "source": [
    "<tt><strong>Exercise 2:</strong> Given a range of the first 10 numbers, Iterate from the start number to the end number, and In each iteration print the sum of the current number and previous number\n"
   ]
  },
  {
   "cell_type": "code",
   "execution_count": 16,
   "id": "e832edad-f12a-4500-b1b1-5c15851c6a6f",
   "metadata": {},
   "outputs": [
    {
     "name": "stdout",
     "output_type": "stream",
     "text": [
      "3\n",
      "5\n",
      "7\n",
      "9\n",
      "11\n",
      "13\n",
      "15\n",
      "17\n",
      "19\n"
     ]
    }
   ],
   "source": [
    "#get range(1,11)\n",
    "#range(1,11) = [1,2,3,4,5,6,7,8,9,10]\n",
    "#for loop\n",
    "for i in range(1,11):\n",
    "    if(i != 1):\n",
    "        #i = 2\n",
    "        #j = i - 1\n",
    "        #i + j = (2*i)-1\n",
    "        j = i -1\n",
    "        print(i + j)"
   ]
  },
  {
   "cell_type": "code",
   "execution_count": null,
   "id": "bf0d6c78-7987-486f-a9f3-da92dbf9fb5c",
   "metadata": {},
   "outputs": [],
   "source": []
  }
 ],
 "metadata": {
  "kernelspec": {
   "display_name": "Python 3",
   "language": "python",
   "name": "python3"
  },
  "language_info": {
   "codemirror_mode": {
    "name": "ipython",
    "version": 3
   },
   "file_extension": ".py",
   "mimetype": "text/x-python",
   "name": "python",
   "nbconvert_exporter": "python",
   "pygments_lexer": "ipython3",
   "version": "3.9.4"
  }
 },
 "nbformat": 4,
 "nbformat_minor": 5
}
