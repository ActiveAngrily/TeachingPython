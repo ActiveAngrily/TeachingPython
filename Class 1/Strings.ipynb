{
 "cells": [
  {
   "cell_type": "markdown",
   "id": "9fc06008-ecc4-42e6-a9a6-664b7f0647a1",
   "metadata": {},
   "source": [
    "<h1>Strings</h1>"
   ]
  },
  {
   "cell_type": "code",
   "execution_count": 4,
   "id": "ad64ebc2-418b-465b-a1ae-2e954e2587e9",
   "metadata": {},
   "outputs": [
    {
     "name": "stdout",
     "output_type": "stream",
     "text": [
      "Python ProgrammingHello World!\n"
     ]
    }
   ],
   "source": [
    "var1 = 'Hello World!'\n",
    "var2 = \"Python Programming\"\n",
    "print(var2 + var1)"
   ]
  },
  {
   "cell_type": "markdown",
   "id": "b09022a4-4b51-45e8-9f6e-c3d49b277b70",
   "metadata": {},
   "source": [
    "<h3>Accessing Values in Strings</h3>"
   ]
  },
  {
   "cell_type": "markdown",
   "id": "592afbae-e8d7-4146-bd5d-628dd7717e5c",
   "metadata": {},
   "source": [
    "<tt>Python does not support a character type; these are treated as strings of length one, thus also considered a substring.\n",
    "<tt>To access substrings, use the square brackets for slicing along with the index or indices to obtain your substring. For example −\n"
   ]
  },
  {
   "cell_type": "code",
   "execution_count": 6,
   "id": "1a2363e1-03b8-420b-b6de-a996c586f573",
   "metadata": {},
   "outputs": [
    {
     "name": "stdout",
     "output_type": "stream",
     "text": [
      "var1[0]:  H\n",
      "var2[1:5]:  ytho\n",
      "var2[0:4]: Pyth\n"
     ]
    }
   ],
   "source": [
    "#substring -> subset of the current string\n",
    "#subsets -> small part of the bigger set\n",
    "\n",
    "\n",
    "#-------0123456789^1\n",
    "var1 = 'Hello World!'\n",
    "var2 = \"Python Programming\"\n",
    "#var1 = Hello, [He,H,e,l,ell]\n",
    "#\n",
    "print (\"var1[0]: \", var1[0])\n",
    "print (\"var2[1:5]: \", var2[1:5])\n",
    "print(\"var2[0:4]:\",var2[0:4])\n",
    "#to access a substring, we use this format\n",
    "#[starting point, ending point+1]\n",
    "#starting point - default value = 0\n",
    "#ending point - default value = range or length of the string\n",
    "#for example\n",
    "#default starting point of hello = 0\n",
    "#default ending point of hello = 5 = length of the string"
   ]
  },
  {
   "cell_type": "markdown",
   "id": "9179027f-44e8-47ea-869a-9f8495f22768",
   "metadata": {},
   "source": [
    "<h3>Updating Strings"
   ]
  },
  {
   "cell_type": "markdown",
   "id": "3fb97eaa-b1b2-4bd1-bac0-0662d9b253ff",
   "metadata": {},
   "source": [
    "<tt>You can \"update\" an existing string by (re)assigning a variable to another string. The new value can be related to its previous value or to a completely different string altogether. For example −\n"
   ]
  },
  {
   "cell_type": "code",
   "execution_count": 8,
   "id": "88264871-7a4e-4582-a91b-78031ed0cd29",
   "metadata": {},
   "outputs": [
    {
     "name": "stdout",
     "output_type": "stream",
     "text": [
      "Updated String :-  Hello Python\n"
     ]
    }
   ],
   "source": [
    "#-------012345 \n",
    "#var1[:6] = \"Hello \" + Python\n",
    "# Hello Python\n",
    "var1 = 'Hello World!' #initial string\n",
    "\n",
    "var1 = var1[:6] + 'Python' #updated string\n",
    "print (\"Updated String :- \", var1 )"
   ]
  },
  {
   "cell_type": "markdown",
   "id": "49d1ed40-347d-4cd2-9a24-a5f8c5257f08",
   "metadata": {},
   "source": [
    "<h3>Escape Characters"
   ]
  },
  {
   "cell_type": "markdown",
   "id": "544d1220-d16a-4f96-86cd-6408fea78317",
   "metadata": {},
   "source": [
    "\n",
    "Following table is a list of escape or non-printable characters that can be represented with backslash notation.\n",
    "An escape character gets interpreted; in a single quoted as well as double quoted strings."
   ]
  },
  {
   "cell_type": "markdown",
   "id": "88244c90-f3fe-4e85-8d97-c0cef56a7303",
   "metadata": {},
   "source": [
    "<table><tbody><tr>\n",
    "<th style=\"text-align:center;\">Backslash notation</th>\n",
    "<th style=\"text-align:center;\">Hexadecimal character</th>\n",
    "<th class=\"ts\">Description</th>\n",
    "</tr>\n",
    "<tr>\n",
    "<td>\\a</td>\n",
    "<td>0x07</td>\n",
    "<td>Bell or alert</td>\n",
    "</tr>\n",
    "<tr>\n",
    "<td>\\b</td>\n",
    "<td>0x08</td>\n",
    "<td>Backspace</td>\n",
    "</tr>\n",
    "<tr>\n",
    "<td>\\cx</td>\n",
    "<td></td>\n",
    "<td>Control-x</td>\n",
    "</tr>\n",
    "<tr>\n",
    "<td>\\C-x</td>\n",
    "<td></td>\n",
    "<td>Control-x</td>\n",
    "</tr>\n",
    "<tr>\n",
    "<td>\\e</td>\n",
    "<td>0x1b</td>\n",
    "<td>Escape</td>\n",
    "</tr>\n",
    "<tr>\n",
    "<td>\\f</td>\n",
    "<td>0x0c</td>\n",
    "<td>Formfeed</td>\n",
    "</tr>\n",
    "<tr>\n",
    "<td>\\M-\\C-x</td>\n",
    "<td></td>\n",
    "<td>Meta-Control-x</td>\n",
    "</tr>\n",
    "<tr>\n",
    "<td>\\n</td>\n",
    "<td>0x0a</td>\n",
    "<td>Newline</td>\n",
    "</tr>\n",
    "<tr>\n",
    "<td>\\nnn</td>\n",
    "<td></td>\n",
    "<td>Octal notation, where n is in the range 0.7</td>\n",
    "</tr>\n",
    "<tr>\n",
    "<td>\\r</td>\n",
    "<td>0x0d</td>\n",
    "<td>Carriage return</td>\n",
    "</tr>\n",
    "<tr>\n",
    "<td>\\s</td>\n",
    "<td>0x20</td>\n",
    "<td>Space</td>\n",
    "</tr>\n",
    "<tr>\n",
    "<td>\\t</td>\n",
    "<td>0x09</td>\n",
    "<td>Tab</td>\n",
    "</tr>\n",
    "<tr>\n",
    "<td>\\v</td>\n",
    "<td>0x0b</td>\n",
    "<td>Vertical tab</td>\n",
    "</tr>\n",
    "<tr>\n",
    "<td>\\x</td>\n",
    "<td></td>\n",
    "<td>Character x</td>\n",
    "</tr>\n",
    "<tr>\n",
    "<td style=\"vertical-align:middle;\">\\xnn</td>\n",
    "<td></td>\n",
    "<td>Hexadecimal notation, where n is in the range 0.9, a.f, or A.F</td>\n",
    "</tr>\n",
    "</tbody></table>"
   ]
  },
  {
   "cell_type": "code",
   "execution_count": null,
   "id": "dd949f0f-f040-4fe2-b575-b4d5f4c93feb",
   "metadata": {},
   "outputs": [],
   "source": []
  },
  {
   "cell_type": "markdown",
   "id": "1ec6bc9a-829d-4888-b744-1606fc05fa9f",
   "metadata": {},
   "source": [
    "<h3>String Special Operators</h3>"
   ]
  },
  {
   "cell_type": "markdown",
   "id": "c8716fc8-3c75-45e6-9f70-b1ca7e07a9fd",
   "metadata": {},
   "source": [
    "<p>Assume string variable <b>a</b> holds 'Hello' and variable <b>b</b> holds 'Python', then −</p>"
   ]
  },
  {
   "cell_type": "markdown",
   "id": "d5312613-b0f9-4f3d-8e5d-a0d449df7729",
   "metadata": {},
   "source": [
    "<table class=\"table table-bordered\">\n",
    "<tbody><tr>\n",
    "<th style=\"text-align:center;\">Operator</th>\n",
    "<th style=\"text-align:center;\">Description</th>\n",
    "<th style=\"text-align:center;\">Example</th>\n",
    "</tr>\n",
    "<tr>\n",
    "<td class=\"ts\">+</td>\n",
    "<td style=\"vertical-align:middle\">Concatenation - Adds values on either side of the operator</td>\n",
    "<td class=\"ts\">a + b will give HelloPython</td>\n",
    "</tr>\n",
    "<tr>\n",
    "<td class=\"ts\">*</td>\n",
    "<td style=\"vertical-align:middle\">Repetition - Creates new strings, concatenating multiple copies of the same string</td>\n",
    "<td class=\"ts\">a*2 will give -HelloHello</td>\n",
    "</tr>\n",
    "<tr>\n",
    "<td class=\"ts\">[]</td>\n",
    "<td style=\"vertical-align:middle\">Slice - Gives the character from the given index</td>\n",
    "<td class=\"ts\">a[1] will give e</td>\n",
    "</tr>\n",
    "<tr>\n",
    "<td class=\"ts\">[ : ]</td><td style=\"vertical-align:middle\">Range Slice - Gives the characters from the given range</td>\n",
    "<td class=\"ts\">a[1:4] will give ell</td>\n",
    "</tr>\n",
    "<tr>\n",
    "<td class=\"ts\">in</td><td>Membership - Returns true if a character exists in the given string</td><td class=\"ts\">H in a will give 1</td>\n",
    "</tr>\n",
    "<tr>\n",
    "<td class=\"ts\">not in</td>\n",
    "<td>Membership - Returns true if a character does not exist in the given string</td>\n",
    "<td class=\"ts\">M not in a will give 1</td>\n",
    "</tr>\n",
    "<tr>\n",
    "<td class=\"ts\">r/R</td>\n",
    "<td>Raw String - Suppresses actual meaning of Escape characters. The syntax for raw strings is exactly the same as for normal strings with the exception of the raw string operator, the letter \"r,\" which precedes the quotation marks. The \"r\" can be lowercase (r) or uppercase (R) and must be placed immediately preceding the first quote mark.</td>\n",
    "<td class=\"ts\">print r'\\n' prints \\n and print R'\\n'prints \\n</td>\n",
    "</tr>\n",
    "<tr>\n",
    "<td class=\"ts\">%</td>\n",
    "<td style=\"vertical-align:middle\">Format - Performs String formatting</td>\n",
    "<td>See at next section</td>\n",
    "</tr>\n",
    "</tbody></table>"
   ]
  },
  {
   "cell_type": "code",
   "execution_count": 16,
   "id": "8d74ced7-8f3b-4113-b9c8-9b8bbaa3bc1b",
   "metadata": {},
   "outputs": [
    {
     "name": "stdout",
     "output_type": "stream",
     "text": [
      "yes\n"
     ]
    }
   ],
   "source": [
    "a = \" anant \"\n",
    "a * 5\n",
    "#slice, a method to get substring"
   ]
  },
  {
   "cell_type": "markdown",
   "id": "b789dae2-f265-4312-ac8d-02a5a4bdc7ac",
   "metadata": {},
   "source": [
    "<h3>String Formatting Operator\n"
   ]
  },
  {
   "cell_type": "markdown",
   "id": "595fdd1a-d4e7-432d-b568-05699259efc7",
   "metadata": {},
   "source": [
    "<tt>One of Python's coolest features is the string format operator %. This operator is unique to strings and makes up for the pack of having functions from C's printf() family. Following is a simple example −\n",
    "\n"
   ]
  },
  {
   "cell_type": "code",
   "execution_count": 24,
   "id": "588d42dd-447a-4b3c-804a-7b07bae3ee06",
   "metadata": {},
   "outputs": [
    {
     "name": "stdout",
     "output_type": "stream",
     "text": [
      "My name is Anant and weight is 1000 kg!\n"
     ]
    }
   ],
   "source": [
    "print (\"My name is %s and weight is %d kg!\" % ('Anant', 1000)) \n",
    "#%s = string\n",
    "#%d = integer\n",
    "#%f = float"
   ]
  },
  {
   "cell_type": "markdown",
   "id": "cebe0c05-0ec4-4b6d-88f4-5c36a002c35e",
   "metadata": {},
   "source": [
    "<table class=\"table table-bordered\">\n",
    "<tbody><tr>\n",
    "<th width=\"10%\">Sr.No.</th>\n",
    "<th style=\"text-align:center;\">Format Symbol &amp; Conversion</th>\n",
    "</tr>\n",
    "<tr>\n",
    "<td class=\"ts\">1</td>\n",
    "<td><p><b>%c</b></p>\n",
    "<p>character</p></td>\n",
    "</tr>\n",
    "<tr>\n",
    "<td class=\"ts\">2</td>\n",
    "<td><p><b>%s</b></p>\n",
    "<p>string conversion via str() prior to formatting</p></td>\n",
    "</tr>\n",
    "<tr>\n",
    "<td class=\"ts\">3</td>\n",
    "<td><p><b>%i</b></p>\n",
    "<p>signed decimal integer</p></td>\n",
    "</tr>\n",
    "<tr>\n",
    "<td class=\"ts\">4</td>\n",
    "<td><p><b>%d</b></p>\n",
    "<p>signed decimal integer</p></td>\n",
    "</tr>\n",
    "<tr>\n",
    "<td class=\"ts\">5</td>\n",
    "<td><p><b>%u</b></p>\n",
    "<p>unsigned decimal integer</p></td>\n",
    "</tr>\n",
    "<tr>\n",
    "<td class=\"ts\">6</td>\n",
    "<td><p><b>%o</b></p>\n",
    "<p>octal integer</p></td>\n",
    "</tr>\n",
    "<tr>\n",
    "<td class=\"ts\">7</td>\n",
    "<td><p><b>%x</b></p>\n",
    "<p>hexadecimal integer (lowercase letters)</p></td>\n",
    "</tr>\n",
    "<tr>\n",
    "<td class=\"ts\">8</td>\n",
    "<td><p><b>%X</b></p>\n",
    "<p>hexadecimal integer (UPPERcase letters)</p></td>\n",
    "</tr>\n",
    "<tr>\n",
    "<td class=\"ts\">9</td>\n",
    "<td><p><b>%e</b></p>\n",
    "<p>exponential notation (with lowercase 'e')</p></td>\n",
    "</tr>\n",
    "<tr>\n",
    "<td class=\"ts\">10</td>\n",
    "<td><p><b>%E</b></p>\n",
    "<p>exponential notation (with UPPERcase 'E')</p></td>\n",
    "</tr>\n",
    "<tr>\n",
    "<td class=\"ts\">11</td>\n",
    "<td><p><b>%f</b></p>\n",
    "<p>floating point real number</p></td>\n",
    "</tr>\n",
    "<tr>\n",
    "<td class=\"ts\">12</td>\n",
    "<td><p><b>%g</b></p>\n",
    "<p>the shorter of %f and %e</p></td>\n",
    "</tr>\n",
    "<tr>\n",
    "<td class=\"ts\">13</td>\n",
    "<td><p><b>%G</b></p>\n",
    "<p>the shorter of %f and %E</p></td>\n",
    "</tr>\n",
    "</tbody></table>"
   ]
  },
  {
   "cell_type": "markdown",
   "id": "3404de76-8b22-445b-9809-1942143dc2a1",
   "metadata": {},
   "source": [
    "<p>Other supported symbols and functionality are listed in the following table −</p>"
   ]
  },
  {
   "cell_type": "markdown",
   "id": "4ad44463-fa2c-4f76-b9b1-416b8259a2a3",
   "metadata": {},
   "source": [
    "<table class=\"table table-bordered\">\n",
    "<tbody><tr>\n",
    "<th>Sr.No.</th>\n",
    "<th style=\"text-align:center;\">Symbol &amp; Functionality</th>\n",
    "</tr>\n",
    "<tr>\n",
    "<td class=\"ts\">1</td>\n",
    "<td><p><b>*</b></p>\n",
    "<p>argument specifies width or precision</p></td>\n",
    "</tr>\n",
    "<tr>\n",
    "<td class=\"ts\">2</td>\n",
    "<td><p><b>-</b></p>\n",
    "<p>left justification</p></td>\n",
    "</tr>\n",
    "<tr>\n",
    "<td class=\"ts\">3</td>\n",
    "<td><p><b>+</b></p>\n",
    "<p>display the sign</p></td>\n",
    "</tr>\n",
    "<tr>\n",
    "<td class=\"ts\">4</td>\n",
    "<td><p><b>&lt;sp&gt;</b></p>\n",
    "<p>leave a blank space before a positive number</p></td>\n",
    "</tr>\n",
    "<tr>\n",
    "<td class=\"ts\">5</td>\n",
    "<td><p><b>#</b></p>\n",
    "<p>add the octal leading zero ( '0' ) or hexadecimal leading '0x' or '0X', depending on whether 'x' or 'X' were used.</p></td>\n",
    "</tr>\n",
    "<tr>\n",
    "<td class=\"ts\">6</td>\n",
    "<td><p><b>0</b></p>\n",
    "<p>pad from left with zeros (instead of spaces)</p></td>\n",
    "</tr>\n",
    "<tr>\n",
    "<td class=\"ts\">7</td>\n",
    "<td><p><b>%</b></p>\n",
    "<p>'%%' leaves you with a single literal '%'</p></td>\n",
    "</tr>\n",
    "<tr>\n",
    "<td class=\"ts\">8</td>\n",
    "<td><p><b>(var)</b></p>\n",
    "<p>mapping variable (dictionary arguments)</p></td>\n",
    "</tr>\n",
    "<tr>\n",
    "<td class=\"ts\">9</td>\n",
    "<td><p><b>m.n.</b></p>\n",
    "<p>m is the minimum total width and n is the number of digits to display after the decimal point (if appl.)</p></td>\n",
    "</tr>\n",
    "</tbody></table>"
   ]
  },
  {
   "cell_type": "markdown",
   "id": "b0a21420-e4ba-4356-a1c4-0c5ba942407f",
   "metadata": {},
   "source": [
    "<h3>Triple Quotes</h3>"
   ]
  },
  {
   "cell_type": "code",
   "execution_count": 25,
   "id": "3e1e9618-6125-4d85-a718-e45637763866",
   "metadata": {},
   "outputs": [
    {
     "name": "stdout",
     "output_type": "stream",
     "text": [
      "this is a long string that is made up of\n",
      "several lines and non-printable characters such as\n",
      "TAB ( \t ) and they will show up that way when displayed.\n",
      "NEWLINEs within the string, whether explicitly given like\n",
      "this within the brackets [ \n",
      " ], or just a NEWLINE within\n",
      "the variable assignment will also show up.\n",
      "\n"
     ]
    }
   ],
   "source": [
    "para_str = \"\"\"this is a long string that is made up of\n",
    "several lines and non-printable characters such as\n",
    "TAB ( \\t ) and they will show up that way when displayed.\n",
    "NEWLINEs within the string, whether explicitly given like\n",
    "this within the brackets [ \\n ], or just a NEWLINE within\n",
    "the variable assignment will also show up.\n",
    "\"\"\"\n",
    "\n"
   ]
  },
  {
   "cell_type": "markdown",
   "id": "2ad18556-14f3-4c75-9140-c617c5e63881",
   "metadata": {},
   "source": [
    "<h3>Unicode String</h3>\n"
   ]
  },
  {
   "cell_type": "markdown",
   "id": "5aca1c55-5bac-4f53-b1fc-61698d5b23f0",
   "metadata": {},
   "source": [
    "<tt>In Python 3, all strings are represented in Unicode.In Python 2 are stored internally as 8-bit ASCII, hence it is required to attach 'u' to make it Unicode. It is no longer necessary now.\n"
   ]
  },
  {
   "cell_type": "markdown",
   "id": "4e9f025d-617f-4929-b7bb-31bb46eddac6",
   "metadata": {},
   "source": [
    "\n",
    "<h4>Built-in String Methods(also known as functions)</h4>"
   ]
  },
  {
   "cell_type": "markdown",
   "id": "37c84282-358c-44f5-a8bb-519c1a121f8a",
   "metadata": {},
   "source": [
    "Python includes the following built-in methods to manipulate strings −"
   ]
  },
  {
   "cell_type": "markdown",
   "id": "bd0407e4-5fbf-4825-ba6e-e55090017315",
   "metadata": {},
   "source": [
    "<table class=\"table table-bordered\">\n",
    "<tbody><tr>\n",
    "<th style=\"text-align:center;\">Sr.No.</th>\n",
    "<th style=\"text-align:center;\">Methods &amp; Description</th>\n",
    "</tr>\n",
    "<tr>\n",
    "<td class=\"ts\">1</td>\n",
    "<td>\n",
    "<a href=\"/python3/string_capitalize.htm\">capitalize()</a>\n",
    "<p>Capitalizes first letter of string</p></td>\n",
    "</tr>\n",
    "<tr>\n",
    "<td class=\"ts\">2</td>\n",
    "<td>\n",
    "<a href=\"/python3/string_center.htm\">center(width, fillchar)</a>\n",
    "<p>Returns a string padded with <i>fillchar</i> with the original string centered to a total of <i>width</i> columns.</p></td>\n",
    "</tr>\n",
    "<tr>\n",
    "<td class=\"ts\">3</td>\n",
    "<td>\n",
    "<a href=\"/python3/string_count.htm\">count(str, beg = 0,end = len(string))</a>\n",
    "<p>Counts how many times str occurs in string or in a substring of string if starting index beg and ending index end are given.</p></td>\n",
    "</tr>\n",
    "<tr>\n",
    "<td class=\"ts\">4</td>\n",
    "<td>\n",
    "<a href=\"/python3/string_decode.htm\">decode(encoding = 'UTF-8',errors = 'strict')</a>\n",
    "<p>Decodes the string using the codec registered for encoding. encoding defaults to the default string encoding.</p></td>\n",
    "</tr>\n",
    "<tr>\n",
    "<td class=\"ts\">5</td>\n",
    "<td>\n",
    "<a href=\"/python3/string_encode.htm\">encode(encoding = 'UTF-8',errors = 'strict')</a>\n",
    "<p>Returns encoded string version of string; on error, default is to raise a ValueError unless errors is given with 'ignore' or 'replace'.</p></td>\n",
    "</tr>\n",
    "<tr>\n",
    "<td class=\"ts\">6</td>\n",
    "<td>\n",
    "<a href=\"/python3/string_endswith.htm\">endswith(suffix, beg = 0, end = len(string))</a>\n",
    "<p>Determines if string or a substring of string (if starting index beg and ending index end are given) ends with suffix; returns true if so and false otherwise.</p></td>\n",
    "</tr>\n",
    "<tr>\n",
    "<td class=\"ts\">7</td>\n",
    "<td>\n",
    "<a href=\"/python3/string_expandtabs.htm\">expandtabs(tabsize = 8)</a>\n",
    "<p>Expands tabs in string to multiple spaces; defaults to 8 spaces per tab if tabsize not provided.</p></td>\n",
    "</tr>\n",
    "<tr>\n",
    "<td class=\"ts\">8</td>\n",
    "<td>\n",
    "<a href=\"/python3/string_find.htm\">find(str, beg = 0 end = len(string))</a>\n",
    "<p>Determine if str occurs in string or in a substring of string if starting index beg and ending index end are given returns index if found and -1 otherwise.</p></td>\n",
    "</tr>\n",
    "<tr>\n",
    "<td class=\"ts\">9</td>\n",
    "<td>\n",
    "<a href=\"/python3/string_index.htm\">index(str, beg = 0, end = len(string))</a>\n",
    "<p>Same as find(), but raises an exception if str not found.</p></td>\n",
    "</tr>\n",
    "<tr>\n",
    "<td class=\"ts\">10</td>\n",
    "<td>\n",
    "<a href=\"/python3/string_isalnum.htm\">isalnum()</a>\n",
    "<p>Returns true if string has at least 1 character and all characters are alphanumeric and false otherwise.</p></td>\n",
    "</tr>\n",
    "<tr>\n",
    "<td class=\"ts\">11</td>\n",
    "<td>\n",
    "<a href=\"/python3/string_isalpha.htm\">isalpha()</a>\n",
    "<p>Returns true if string has at least 1 character and all characters are alphabetic and false otherwise.</p></td>\n",
    "</tr>\n",
    "<tr>\n",
    "<td class=\"ts\">12</td>\n",
    "<td>\n",
    "<a href=\"/python3/string_isdigit.htm\">isdigit()</a>\n",
    "<p>Returns true if string contains only digits and false otherwise.</p></td>\n",
    "</tr>\n",
    "<tr>\n",
    "<td class=\"ts\">13</td>\n",
    "<td>\n",
    "<a href=\"/python3/string_islower.htm\">islower()</a>\n",
    "<p>Returns true if string has at least 1 cased character and all cased characters are in lowercase and false otherwise.</p></td>\n",
    "</tr>\n",
    "<tr>\n",
    "<td class=\"ts\">14</td>\n",
    "<td>\n",
    "<a href=\"/python3/string_isnumeric.htm\">isnumeric()</a>\n",
    "<p>Returns true if a unicode string contains only numeric characters and false otherwise.</p></td>\n",
    "</tr>\n",
    "<tr>\n",
    "<td class=\"ts\">15</td>\n",
    "<td>\n",
    "<a href=\"/python3/string_isspace.htm\">isspace()</a>\n",
    "<p>Returns true if string contains only whitespace characters and false otherwise.</p></td>\n",
    "</tr>\n",
    "<tr>\n",
    "<td class=\"ts\">16</td>\n",
    "<td>\n",
    "<a href=\"/python3/string_istitle.htm\">istitle()</a>\n",
    "<p>Returns true if string is properly \"titlecased\" and false otherwise.</p></td>\n",
    "</tr>\n",
    "<tr>\n",
    "<td class=\"ts\">17</td>\n",
    "<td>\n",
    "<a href=\"/python3/string_isupper.htm\">isupper()</a>\n",
    "<p>Returns true if string has at least one cased character and all cased characters are in uppercase and false otherwise.</p></td>\n",
    "</tr>\n",
    "<tr>\n",
    "<td class=\"ts\">18</td>\n",
    "<td>\n",
    "<a href=\"/python3/string_join.htm\">join(seq)</a>\n",
    "<p>Merges (concatenates) the string representations of elements in sequence seq into a string, with separator string.</p></td>\n",
    "</tr>\n",
    "<tr>\n",
    "<td class=\"ts\">19</td>\n",
    "<td>\n",
    "<a href=\"/python3/string_len.htm\">len(string)</a>\n",
    "<p>Returns the length of the string</p></td>\n",
    "</tr>\n",
    "<tr>\n",
    "<td class=\"ts\">20</td>\n",
    "<td>\n",
    "<a href=\"/python3/string_ljust.htm\">ljust(width[, fillchar])</a>\n",
    "<p>Returns a space-padded string with the original string left-justified to a total of width columns.</p></td>\n",
    "</tr>\n",
    "<tr>\n",
    "<td class=\"ts\">21</td>\n",
    "<td>\n",
    "<a href=\"/python3/string_lower.htm\">lower()</a>\n",
    "<p>Converts all uppercase letters in string to lowercase.</p></td>\n",
    "</tr>\n",
    "<tr>\n",
    "<td class=\"ts\">22</td>\n",
    "<td>\n",
    "<a href=\"/python3/string_lstrip.htm\">lstrip()</a>\n",
    "<p>Removes all leading whitespace in string.</p></td>\n",
    "</tr>\n",
    "<tr>\n",
    "<td class=\"ts\">23</td>\n",
    "<td>\n",
    "<a href=\"/python3/string_maketrans.htm\">maketrans()</a>\n",
    "<p>Returns a translation table to be used in translate function.</p></td>\n",
    "</tr>\n",
    "<tr>\n",
    "<td class=\"ts\">24</td>\n",
    "<td>\n",
    "<a href=\"/python3/string_max.htm\">max(str)</a>\n",
    "<p>Returns the max alphabetical character from the string str.</p></td>\n",
    "</tr>\n",
    "<tr>\n",
    "<td class=\"ts\">25</td>\n",
    "<td>\n",
    "<a href=\"/python3/string_min.htm\">min(str)</a>\n",
    "<p>Returns the min alphabetical character from the string str.</p></td>\n",
    "</tr>\n",
    "<tr>\n",
    "<td class=\"ts\">26</td>\n",
    "<td>\n",
    "<a href=\"/python3/string_replace.htm\">replace(old, new [, max])</a>\n",
    "<p>Replaces all occurrences of old in string with new or at most max occurrences if max given.</p></td>\n",
    "</tr>\n",
    "<tr>\n",
    "<td class=\"ts\">27</td>\n",
    "<td>\n",
    "<a href=\"/python3/string_rfind.htm\">rfind(str, beg = 0,end = len(string))</a>\n",
    "<p>Same as find(), but search backwards in string.</p></td>\n",
    "</tr>\n",
    "<tr>\n",
    "<td class=\"ts\">28</td>\n",
    "<td>\n",
    "<a href=\"/python3/string_rindex.htm\">rindex( str, beg = 0, end = len(string))</a>\n",
    "<p>Same as index(), but search backwards in string.</p></td>\n",
    "</tr>\n",
    "<tr>\n",
    "<td class=\"ts\">29</td>\n",
    "<td>\n",
    "<a href=\"/python3/string_rjust.htm\">rjust(width,[, fillchar])</a>\n",
    "<p>Returns a space-padded string with the original string right-justified to a total of width columns.</p></td>\n",
    "</tr>\n",
    "<tr>\n",
    "<td class=\"ts\">30</td>\n",
    "<td>\n",
    "<a href=\"/python3/string_rstrip.htm\">rstrip()</a>\n",
    "<p>Removes all trailing whitespace of string.</p></td>\n",
    "</tr>\n",
    "<tr>\n",
    "<td class=\"ts\">31</td>\n",
    "<td>\n",
    "<a href=\"/python3/string_split.htm\">split(str=\"\", num=string.count(str))</a>\n",
    "<p>Splits string according to delimiter str (space if not provided) and returns list of substrings; split into at most num substrings if given.</p></td>\n",
    "</tr>\n",
    "<tr>\n",
    "<td class=\"ts\">32</td>\n",
    "<td>\n",
    "<a href=\"/python3/string_splitlines.htm\">splitlines( num=string.count('\\n'))</a>\n",
    "<p>Splits string at all (or num) NEWLINEs and returns a list of each line with NEWLINEs removed.</p></td>\n",
    "</tr>\n",
    "<tr>\n",
    "<td class=\"ts\">33</td>\n",
    "<td>\n",
    "<a href=\"/python3/string_startswith.htm\">startswith(str, beg=0,end=len(string))</a>\n",
    "<p>Determines if string or a substring of string (if starting index beg and ending index end are given) starts with substring str; returns true if so and false otherwise.</p></td>\n",
    "</tr>\n",
    "<tr>\n",
    "<td class=\"ts\">34</td>\n",
    "<td>\n",
    "<a href=\"/python3/string_strip.htm\">strip([chars])</a>\n",
    "<p>Performs both lstrip() and rstrip() on string</p></td>\n",
    "</tr>\n",
    "<tr>\n",
    "<td class=\"ts\">35</td>\n",
    "<td>\n",
    "<a href=\"/python3/string_swapcase.htm\">swapcase()</a>\n",
    "<p>Inverts case for all letters in string.</p></td>\n",
    "</tr>\n",
    "<tr>\n",
    "<td class=\"ts\">36</td>\n",
    "<td>\n",
    "<a href=\"/python3/string_title.htm\">title()</a>\n",
    "<p>Returns \"titlecased\" version of string, that is, all words begin with uppercase and the rest are lowercase.</p></td>\n",
    "</tr>\n",
    "<tr>\n",
    "<td class=\"ts\">37</td>\n",
    "<td>\n",
    "<a href=\"/python3/string_translate.htm\">translate(table, deletechars=\"\")</a>\n",
    "<p>Translates string according to translation table str(256 chars), removing those in the del string.</p></td>\n",
    "</tr>\n",
    "<tr>\n",
    "<td class=\"ts\">38</td>\n",
    "<td>\n",
    "<a href=\"/python3/string_upper.htm\">upper()</a>\n",
    "<p>Converts lowercase letters in string to uppercase.</p></td>\n",
    "</tr>\n",
    "<tr>\n",
    "<td class=\"ts\">39</td>\n",
    "<td>\n",
    "<a href=\"/python3/string_zfill.htm\">zfill (width)</a>\n",
    "<p>Returns original string leftpadded with zeros to a total of width characters; intended for numbers, zfill() retains any sign given (less one zero).</p></td>\n",
    "</tr>\n",
    "<tr>\n",
    "<td class=\"ts\">40</td>\n",
    "<td>\n",
    "<a href=\"/python3/string_isdecimal.htm\">isdecimal()</a>\n",
    "<p>Returns true if a unicode string contains only decimal characters and false otherwise.</p></td>\n",
    "</tr>\n",
    "</tbody></table>"
   ]
  },
  {
   "cell_type": "markdown",
   "id": "a310881c-ddd2-4c77-b7cf-02e8fadc3c4f",
   "metadata": {},
   "source": [
    "<strong>Q1.</strong> <tt>Write a Python program to calculate the length of a string. "
   ]
  },
  {
   "cell_type": "code",
   "execution_count": 29,
   "id": "bcbe787b-75f1-4928-8fae-c2ad08e93599",
   "metadata": {},
   "outputs": [
    {
     "name": "stdout",
     "output_type": "stream",
     "text": [
      "S\n",
      "a\n",
      "d\n",
      "i\n",
      "y\n",
      "a\n"
     ]
    }
   ],
   "source": [
    "#method 1(use built-in function) - len(string)\n",
    "#method 2(manual method)(count by using forloop)\n",
    "#------>create a variable that stores number of iterations and name it x\n",
    "#------>add x for every iteration\n",
    "a = \"Sadiya\"\n",
    "for i in a:\n",
    "    print(i)"
   ]
  },
  {
   "cell_type": "markdown",
   "id": "e4d789cb-0d8c-47e1-815c-5ef3ddfff829",
   "metadata": {},
   "source": [
    "<strong>Q2.</strong> <tt>Write a Python program to count the number of characters (character frequency) in a string.<br>\n",
    "<tt>Sample String : google.com'\n"
   ]
  },
  {
   "cell_type": "code",
   "execution_count": null,
   "id": "68a563a7-63d5-4161-9a45-c716299c5a75",
   "metadata": {},
   "outputs": [],
   "source": []
  },
  {
   "cell_type": "markdown",
   "id": "2e2fee29-99a6-4334-9ef2-df68cc2fcb35",
   "metadata": {},
   "source": [
    "<strong>Q3.</strong> <tt>Write a Python program to get a string made of the first 2 and the last 2 chars from a given a string. If the string length is less than 2, return instead of the empty string.\n",
    "<br><tt>Sample String : 'w3resource'\n"
   ]
  },
  {
   "cell_type": "code",
   "execution_count": 13,
   "id": "13a7ffd2-5e62-466a-9742-84248f41219c",
   "metadata": {},
   "outputs": [
    {
     "name": "stdin",
     "output_type": "stream",
     "text": [
      "Get String -  ab\n"
     ]
    },
    {
     "name": "stdout",
     "output_type": "stream",
     "text": [
      "ab\n"
     ]
    }
   ],
   "source": [
    "#string = \"012345678\"\n",
    "#substring1 = string[:2]\n",
    "#substring2 = string[-1:-3:-1]\n",
    "#output = substring1 + substring2\n",
    "#string = \"0178\"\n",
    "\n",
    "string = str(input(\"Get String - \"))\n",
    "if(len(string) > 2):\n",
    "    substring1 = string[:2]\n",
    "    substring2 = string[-1:-3:-1]\n",
    "    substring2 = substring2[::-1]\n",
    "    output = substring1 + substring2\n",
    "    print(output)\n",
    "elif(len(string) == 2):\n",
    "    print(string)\n",
    "else:\n",
    "    print(\"return\")"
   ]
  },
  {
   "cell_type": "markdown",
   "id": "d7033dad-3897-47b5-88d4-9f35de659309",
   "metadata": {},
   "source": [
    "<p><strong>Q4.</strong> <tt>Write a Python program to add 'ing' at the end of a given string (length should be at least 3). If the given string already ends with 'ing' then add 'ly' instead. If the string length of the given string is less than 3, leave it unchanged. <br>\n",
    "Sample String : 'abc'<br>\n",
    "<tt>Expected Result :\n",
    "<tt>'abcing'\n",
    "<br>\n",
    "<tt>Sample String : 'string'<br>\n",
    "<tt>Expected Result :\n",
    "<tt>'stringly'<br>"
   ]
  },
  {
   "cell_type": "code",
   "execution_count": 29,
   "id": "292e7f44-9d49-4515-b0a7-8740a9a29db3",
   "metadata": {},
   "outputs": [
    {
     "name": "stdin",
     "output_type": "stream",
     "text": [
      "get string -  anant\n"
     ]
    },
    {
     "name": "stdout",
     "output_type": "stream",
     "text": [
      "ananting\n"
     ]
    }
   ],
   "source": [
    "#check the length of the string\n",
    "# if length is less than 3, don't change it\n",
    "#if reverse(string[-1:-4:-1]) = ing then add ly\n",
    "#else if it is not equal to ing then add ing\n",
    "#string = str(input(\"Get String - \"))\n",
    "#output = string\n",
    "#if(len(string) >= 3):\n",
    "#    sub = string[-1:-4:-1] #getting substring\n",
    "#    sub = sub[::-1] #reversing string\n",
    "#    if(sub == 'ing'):\n",
    "#        output = string + 'ly'\n",
    "#    else:\n",
    "#        output = string + 'ing'\n",
    "#print(output)\n",
    "\n",
    "#method 2: by using functions\n",
    "string = str(input(\"get string - \"))\n",
    "def performaction(a):\n",
    "    output = a\n",
    "    if(len(string) >= 3):\n",
    "        sub = string[-1:-4:-1] #getting substring\n",
    "        sub = sub[::-1] #reversing string\n",
    "        if(sub == 'ing'):\n",
    "            output = string + 'ly'\n",
    "        else:\n",
    "            output = string + 'ing'\n",
    "    return output\n",
    "print(performaction(string))"
   ]
  },
  {
   "cell_type": "markdown",
   "id": "754c0154-220c-4998-a10e-525f5a66a567",
   "metadata": {},
   "source": [
    "<p><strong>Q5.</strong><tt>Find the index of the first occurrence of a substring in a string.</tt>"
   ]
  },
  {
   "cell_type": "code",
   "execution_count": 20,
   "id": "96c2942f-c59a-4929-8788-c8459e11fc51",
   "metadata": {},
   "outputs": [
    {
     "name": "stdout",
     "output_type": "stream",
     "text": [
      "3\n"
     ]
    }
   ],
   "source": [
    "#string = \"anant\"\n",
    "#sub = \"an\"\n",
    "#method 1- using a predefined function\n",
    "string = \"safant\"\n",
    "sub = \"an\"\n",
    "print(string.find(sub))\n",
    "    "
   ]
  },
  {
   "cell_type": "code",
   "execution_count": 26,
   "id": "b5153b29-ab2d-4885-a28f-949203c048ff",
   "metadata": {},
   "outputs": [
    {
     "name": "stdout",
     "output_type": "stream",
     "text": [
      "25\n"
     ]
    }
   ],
   "source": [
    "#Functions\n",
    "#syntax def function(args, kwargs):\n",
    "#       ----> statements\n",
    "#       ----> statements\n",
    "#       ----> return output\n",
    "#f(x) = x^2 + 2x + 1\n",
    "#f(2) = 4 + 4 + 1\n",
    "#f(2) = 9\n",
    "#f(3) = 9 + 6 + 1\n",
    "#f(3) = 16\n",
    "\n",
    "#def #define --> in other words, we are defining a function\n",
    "def addition(a,b):\n",
    "    return (a ** b)"
   ]
  },
  {
   "cell_type": "code",
   "execution_count": null,
   "id": "cc977a7e-f2bd-4290-9f1c-11feddf77521",
   "metadata": {},
   "outputs": [],
   "source": [
    "#pandas\n",
    "#data science"
   ]
  },
  {
   "cell_type": "code",
   "execution_count": null,
   "id": "92912354-d8b3-4b16-94f5-fcf2020d9e23",
   "metadata": {},
   "outputs": [],
   "source": []
  }
 ],
 "metadata": {
  "kernelspec": {
   "display_name": "Python 3",
   "language": "python",
   "name": "python3"
  },
  "language_info": {
   "codemirror_mode": {
    "name": "ipython",
    "version": 3
   },
   "file_extension": ".py",
   "mimetype": "text/x-python",
   "name": "python",
   "nbconvert_exporter": "python",
   "pygments_lexer": "ipython3",
   "version": "3.9.4"
  }
 },
 "nbformat": 4,
 "nbformat_minor": 5
}
