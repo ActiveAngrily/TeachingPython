{
 "cells": [
  {
   "cell_type": "markdown",
   "id": "4eb70e3b-6c13-4fbb-ab59-c6fc3739e45c",
   "metadata": {},
   "source": [
    "<h1>Python Lists</h1>"
   ]
  },
  {
   "cell_type": "markdown",
   "id": "e18319c4-48e7-4836-8cc6-6c5871f94c81",
   "metadata": {},
   "source": [
    "<p>The most basic data structure in Python is the <b>sequence</b>. Each element of a sequence is assigned a number - its position or index. The first index is zero, the second index is one, and so forth.</p>"
   ]
  },
  {
   "cell_type": "markdown",
   "id": "83bdeef8-b83a-4e6d-8455-08ba27746a0a",
   "metadata": {},
   "source": [
    "<p>Python has six built-in types of sequences, but the most common ones are lists and tuples, which we would see in this tutorial.</p>"
   ]
  },
  {
   "cell_type": "markdown",
   "id": "22aab567-a9af-460e-965d-0214d270b98d",
   "metadata": {},
   "source": [
    "<p>There are certain things you can do with all the sequence types. These operations include indexing, slicing, adding, multiplying, and checking for membership. In addition, Python has built-in functions for finding the length of a sequence and for finding its largest and smallest elements.</p>"
   ]
  },
  {
   "cell_type": "markdown",
   "id": "1b3cb665-2105-4cb2-8948-1bbf733dd732",
   "metadata": {},
   "source": [
    "<h2>Python Lists</h2>"
   ]
  },
  {
   "cell_type": "markdown",
   "id": "9c29830e-c537-4396-b01c-6b9504b01b34",
   "metadata": {},
   "source": [
    "<p>The list is the most versatile datatype available in Python, which can be written as a list of comma-separated values (items) between square brackets. Important thing about a list is that the items in a list need not be of the same type.</p>"
   ]
  },
  {
   "cell_type": "code",
   "execution_count": 6,
   "id": "1cfaf92a-3e60-412c-9f80-412ca8f4d828",
   "metadata": {},
   "outputs": [],
   "source": [
    "list1 = ['physics', 'c', 1997, 2000.5,['s']];\n",
    "list2 = [1, 2, 3, 4, 5 ];\n",
    "list3 = [\"a\", \"b\", \"c\", \"d\"];\n",
    "string1 = \"chemistry\"\n",
    "list1 = [\"chemistry\",11]\n",
    "\n",
    "#shopping list\n",
    "#-bread,1\n",
    "#-butter,1\n",
    "#-chicken,1\n",
    "#list\n",
    "#string, integer, float, list\n",
    "\n",
    "shoppinglist = [\n",
    "                ['bread',1],\n",
    "                ['butter',1],\n",
    "                ['chicken',1],\n",
    "               ]"
   ]
  },
  {
   "cell_type": "markdown",
   "id": "b727f7c6-5ba2-4ab3-ad38-f03a5433adc3",
   "metadata": {},
   "source": [
    "<h2>Accessing Values in Lists</h2>"
   ]
  },
  {
   "cell_type": "code",
   "execution_count": 1,
   "id": "634248b0-9a8f-481c-aaa2-8ef1e48d1b57",
   "metadata": {},
   "outputs": [
    {
     "data": {
      "text/plain": [
       "'phy'"
      ]
     },
     "execution_count": 1,
     "metadata": {},
     "output_type": "execute_result"
    }
   ],
   "source": [
    "string1 = \"physics\"\n",
    "string1[0:3]"
   ]
  },
  {
   "cell_type": "code",
   "execution_count": 8,
   "id": "6fcb08f6-9fc5-450c-8376-07d1dc138303",
   "metadata": {},
   "outputs": [
    {
     "name": "stdout",
     "output_type": "stream",
     "text": [
      "list1[0]:  physics\n",
      "list2[1:5]:  [2, 3, 4, 5]\n"
     ]
    }
   ],
   "source": [
    "#---------0thelement 1stelement  2nd    3rd    length=4\n",
    " list1 = ['physics', 'chemistry', 1997, 2000]\n",
    "#        0  1  2  3  4  5  6\n",
    "list2 = [1, 2, 3, 4, 5, 6, 7 ]\n",
    "\n",
    "print (\"list1[0]: \", list1[0])\n",
    "print (\"list2[1:5]: \", list2[1:5])"
   ]
  },
  {
   "cell_type": "markdown",
   "id": "2d5f4194-98b1-4da2-a956-99e808a28dc2",
   "metadata": {},
   "source": [
    "<h2>Updating Lists</h2>"
   ]
  },
  {
   "cell_type": "code",
   "execution_count": 5,
   "id": "a77ca00a-fc61-4d83-9f0a-d47f394473ae",
   "metadata": {},
   "outputs": [
    {
     "name": "stdout",
     "output_type": "stream",
     "text": [
      "['Cold Drink', 'Chocolates', 'Book']\n"
     ]
    }
   ],
   "source": [
    "shoppinglist = [\"Ice cream\",\"Chocolates\",\"Book\"]\n",
    "shoppinglist[0] = \"Cold Drink\"\n",
    "print(shoppinglist)"
   ]
  },
  {
   "cell_type": "code",
   "execution_count": 11,
   "id": "d2a187e9-784c-4d8d-9d5d-5f7b700b8add",
   "metadata": {},
   "outputs": [
    {
     "name": "stdout",
     "output_type": "stream",
     "text": [
      "Value available at index 2 :  1997\n",
      "New value available at index 2 :  2001\n"
     ]
    }
   ],
   "source": [
    "list1 = ['physics', 'chemistry', 1997, 2000]\n",
    "print (\"Value available at index 2 : \", list[2])\n",
    "\n",
    "list1[2] = 2001\n",
    "print (\"New value available at index 2 : \", list[2])\n"
   ]
  },
  {
   "cell_type": "markdown",
   "id": "2ecaed1a-1cfa-48ac-89d3-9e717857c0c0",
   "metadata": {},
   "source": [
    "<h2>Delete List Elements</h2>"
   ]
  },
  {
   "cell_type": "markdown",
   "id": "dacb8aa9-79b1-4f5b-b90c-7af58e7f5c6a",
   "metadata": {},
   "source": [
    "<p>To remove a list element, you can use either the <b>del</b> statement if you know exactly which element(s) you are deleting. You can use the remove() method if you do not know exactly which items to delete. For example −</p>"
   ]
  },
  {
   "cell_type": "code",
   "execution_count": 8,
   "id": "7ee4ebfd-3a3f-4df8-8902-5ae4b8b2b8a2",
   "metadata": {},
   "outputs": [
    {
     "name": "stdout",
     "output_type": "stream",
     "text": [
      "['Chocolates', 'Book']\n"
     ]
    }
   ],
   "source": [
    "shoppinglist = [\"Ice cream\",\"Chocolates\",\"Book\"]\n",
    "del shoppinglist[0]\n",
    "print(shoppinglist)"
   ]
  },
  {
   "cell_type": "code",
   "execution_count": 6,
   "id": "70a72cf3-a744-4834-847f-f25d52fb5d57",
   "metadata": {},
   "outputs": [
    {
     "name": "stdout",
     "output_type": "stream",
     "text": [
      "['physics', 'chemistry', 1997, 2000]\n",
      "After deleting value at index 2 :  ['physics', 'chemistry', 2000]\n"
     ]
    }
   ],
   "source": [
    "list = ['physics', 'chemistry', 1997, 2000]\n",
    "print (list)\n",
    "\n",
    "del list[2]\n",
    "print (\"After deleting value at index 2 : \", list)"
   ]
  },
  {
   "cell_type": "markdown",
   "id": "10950605-14a6-4a5d-9f9c-c57653a8f7d0",
   "metadata": {},
   "source": [
    "<h2>Basic List Operations</h2>"
   ]
  },
  {
   "cell_type": "markdown",
   "id": "f24e49e2-845c-4585-8731-69aa5034f583",
   "metadata": {},
   "source": [
    "<p>Lists respond to the + and * operators much like strings; they mean concatenation and repetition here too, except that the result is a new list, not a string.</p>"
   ]
  },
  {
   "cell_type": "markdown",
   "id": "970ff83d-f4ed-4229-a37a-7bf1a85d6a8a",
   "metadata": {},
   "source": [
    "<table class=\"table table-bordered\" style=\"text-align:center;\">\n",
    "<tbody><tr>\n",
    "<th style=\"text-align:center;\">Python Expression</th>\n",
    "<th style=\"text-align:center;\">Results</th>\n",
    "<th style=\"text-align:center;\">Description</th>\n",
    "</tr>\n",
    "<tr>\n",
    "<td>len([1, 2, 3])</td>\n",
    "<td>3</td>\n",
    "<td>Length</td>\n",
    "</tr>\n",
    "<tr>\n",
    "<td>[1, 2, 3] + [4, 5, 6]</td>\n",
    "<td>[1, 2, 3, 4, 5, 6]</td>\n",
    "<td>Concatenation</td>\n",
    "</tr>\n",
    "<tr>\n",
    "<td>['Hi!'] * 4</td>\n",
    "<td>['Hi!', 'Hi!', 'Hi!', 'Hi!']</td>\n",
    "<td>Repetition</td>\n",
    "</tr>\n",
    "<tr>\n",
    "<td>3 in [1, 2, 3]</td>\n",
    "<td>True</td>\n",
    "<td>Membership</td>\n",
    "</tr>\n",
    "<tr>\n",
    "<td>for x in [1,2,3] : print (x,end = ' ')</td>\n",
    "<td>1 2 3</td>\n",
    "<td>Iteration</td>\n",
    "</tr>\n",
    "</tbody></table>"
   ]
  },
  {
   "cell_type": "markdown",
   "id": "b7df055e-26aa-43ef-8dcc-d115d8f75476",
   "metadata": {},
   "source": [
    "<h2>Indexing, Slicing and Matrixes</h2>"
   ]
  },
  {
   "cell_type": "code",
   "execution_count": 9,
   "id": "497808a9-6a57-401a-89f4-c35e05a8a856",
   "metadata": {},
   "outputs": [],
   "source": [
    "L = ['C++', 'Java', 'Python']\n"
   ]
  },
  {
   "cell_type": "markdown",
   "id": "a349c1c3-b214-4081-a5f7-ed8ce9fae6d4",
   "metadata": {},
   "source": [
    "<table class=\"table table-bordered\" style=\"text-align:center;\">\n",
    "<tbody><tr>\n",
    "<th style=\"text-align:center;\">Python Expression</th>\n",
    "<th style=\"text-align:center;\">Results</th>\n",
    "<th style=\"text-align:center;\">Description</th>\n",
    "</tr>\n",
    "<tr>\n",
    "<td>L[2]</td>\n",
    "<td>'Python'</td>\n",
    "<td>Offsets start at zero</td>\n",
    "</tr>\n",
    "<tr>\n",
    "<td>L[-2]</td>\n",
    "<td>'Java'</td>\n",
    "<td>Negative: count from the right</td>\n",
    "</tr>\n",
    "<tr>\n",
    "<td>L[1:]</td>\n",
    "<td>['Java', 'Python']</td>\n",
    "<td>Slicing fetches sections</td>\n",
    "</tr>\n",
    "</tbody></table>"
   ]
  },
  {
   "cell_type": "markdown",
   "id": "905ba648-16a9-4010-83c2-4a67bb94f9be",
   "metadata": {},
   "source": [
    "<h2>Built-in List Functions and Methods</h2>"
   ]
  },
  {
   "cell_type": "markdown",
   "id": "9abf8100-0981-4f95-bd24-ef99692187cf",
   "metadata": {},
   "source": [
    "<p>Python includes the following list functions −\n",
    "</p>"
   ]
  },
  {
   "cell_type": "markdown",
   "id": "7b8cf388-f8ec-4916-a3ce-34e1924fa12d",
   "metadata": {},
   "source": [
    "<table class=\"table table-bordered\">\n",
    "<tbody><tr>\n",
    "<th width=\"10%\">Sr.No.</th>\n",
    "<th style=\"text-align:center;\">Function &amp; Description</th>\n",
    "</tr>\n",
    "<tr>\n",
    "<td class=\"ts\">1</td>\n",
    "<td>\n",
    "<a href=\"/python3/list_len.htm\">len(list)</a>\n",
    "<p>Gives the total length of the list.</p></td>\n",
    "</tr>\n",
    "<tr>\n",
    "<td class=\"ts\">2</td>\n",
    "<td>\n",
    "<a href=\"/python3/list_max.htm\">max(list)</a>\n",
    "<p>Returns item from the list with max value.</p>\n",
    "</td>\n",
    "</tr>\n",
    "<tr>\n",
    "<td class=\"ts\">3</td>\n",
    "<td>\n",
    "<a href=\"/python3/list_min.htm\">min(list)</a>\n",
    "<p>Returns item from the list with min value.</p></td>\n",
    "</tr>\n",
    "<tr>\n",
    "<td class=\"ts\">4</td>\n",
    "<td>\n",
    "<a href=\"/python3/list_list.htm\">list(seq)</a>\n",
    "<p>Converts a tuple into list.</p></td>\n",
    "</tr>\n",
    "</tbody></table>"
   ]
  },
  {
   "cell_type": "markdown",
   "id": "cef47abc-aa01-45fd-87c9-3ff3be8770fe",
   "metadata": {},
   "source": [
    "<p>Python includes the following list methods −</p>"
   ]
  },
  {
   "cell_type": "markdown",
   "id": "3afa3692-6261-43ec-93ad-8bcd5ff86700",
   "metadata": {},
   "source": [
    "<table class=\"table table-bordered\">\n",
    "<tbody><tr>\n",
    "<th width=\"10%\">Sr.No.</th>\n",
    "<th style=\"text-align:center;\">Methods &amp; Description</th>\n",
    "</tr>\n",
    "<tr>\n",
    "<td class=\"ts\">1</td>\n",
    "<td>\n",
    "<a href=\"/python3/list_append.htm\">list.append(obj)</a>\n",
    "<p>Appends object obj to list</p>\n",
    "</td>\n",
    "</tr>\n",
    "<tr>\n",
    "<td class=\"ts\">2</td>\n",
    "<td>\n",
    "<a href=\"/python3/list_count.htm\">list.count(obj)</a>\n",
    "<p>Returns count of how many times obj occurs in list</p></td>\n",
    "</tr>\n",
    "<tr>\n",
    "<td class=\"ts\">3</td>\n",
    "<td>\n",
    "<a href=\"/python3/list_extend.htm\">list.extend(seq)</a>\n",
    "<p>Appends the contents of seq to list</p></td>\n",
    "</tr>\n",
    "<tr>\n",
    "<td class=\"ts\">4</td>\n",
    "<td>\n",
    "<a href=\"/python3/list_index.htm\">list.index(obj)</a>\n",
    "<p>Returns the lowest index in list that obj appears</p></td>\n",
    "</tr>\n",
    "<tr>\n",
    "<td class=\"ts\">5</td>\n",
    "<td>\n",
    "<a href=\"/python3/list_insert.htm\">list.insert(index, obj)</a>\n",
    "<p>Inserts object obj into list at offset index</p></td>\n",
    "</tr>\n",
    "<tr>\n",
    "<td class=\"ts\">6</td>\n",
    "<td>\n",
    "<a href=\"/python3/list_pop.htm\">list.pop(obj = list[-1])</a>\n",
    "<p>Removes and returns last object or obj from list</p></td>\n",
    "</tr>\n",
    "<tr>\n",
    "<td class=\"ts\">7</td>\n",
    "<td>\n",
    "<a href=\"/python3/list_remove.htm\">list.remove(obj)</a>\n",
    "<p>Removes object obj from list</p></td>\n",
    "</tr>\n",
    "<tr>\n",
    "<td class=\"ts\">8</td>\n",
    "<td>\n",
    "<a href=\"/python3/list_reverse.htm\">list.reverse()</a>\n",
    "<p>Reverses objects of list in place</p></td>\n",
    "</tr>\n",
    "<tr>\n",
    "<td class=\"ts\">9</td>\n",
    "<td>\n",
    "<a href=\"/python3/list_sort.htm\">list.sort([func])</a>\n",
    "<p>Sorts objects of list, use compare func if given</p></td>\n",
    "</tr>\n",
    "</tbody></table>"
   ]
  },
  {
   "cell_type": "code",
   "execution_count": null,
   "id": "a19a10c9-3bca-4c92-976c-4757bd6a3506",
   "metadata": {},
   "outputs": [],
   "source": []
  },
  {
   "cell_type": "code",
   "execution_count": null,
   "id": "0408c046-9cb5-428a-a330-d9543af79f8d",
   "metadata": {},
   "outputs": [],
   "source": [
    "#Iterations\n",
    "#Functions\n",
    "#classes"
   ]
  },
  {
   "cell_type": "code",
   "execution_count": null,
   "id": "a1aeb3d8-c30b-493b-8638-b53e645ce663",
   "metadata": {},
   "outputs": [],
   "source": [
    "#12th"
   ]
  },
  {
   "cell_type": "code",
   "execution_count": null,
   "id": "a4559d02-9848-45d9-9c0d-060b58b28379",
   "metadata": {},
   "outputs": [],
   "source": []
  },
  {
   "cell_type": "code",
   "execution_count": null,
   "id": "b86185fc-9ffe-4f4c-85c6-ee6eea745ddc",
   "metadata": {},
   "outputs": [],
   "source": [
    "#12th"
   ]
  }
 ],
 "metadata": {
  "kernelspec": {
   "display_name": "Python 3",
   "language": "python",
   "name": "python3"
  },
  "language_info": {
   "codemirror_mode": {
    "name": "ipython",
    "version": 3
   },
   "file_extension": ".py",
   "mimetype": "text/x-python",
   "name": "python",
   "nbconvert_exporter": "python",
   "pygments_lexer": "ipython3",
   "version": "3.9.4"
  }
 },
 "nbformat": 4,
 "nbformat_minor": 5
}
