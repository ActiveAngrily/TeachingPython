{
 "cells": [
  {
   "cell_type": "markdown",
   "id": "f485b587-6a48-470d-b064-c311bd8a7a67",
   "metadata": {},
   "source": [
    "<h1>Tuple</h1>"
   ]
  },
  {
   "cell_type": "markdown",
   "id": "20ee4f08-8a8b-4c6d-9565-1d26c2bf3096",
   "metadata": {},
   "source": [
    "<p>A tuple is a sequence of immutable Python objects. Tuples are sequences, just like lists. The main difference between the tuples and the lists is that the tuples cannot be changed unlike lists. Tuples use parentheses, whereas lists use square brackets.</p>"
   ]
  },
  {
   "cell_type": "code",
   "execution_count": 1,
   "id": "069b0d2f-43a2-4157-b433-e81a1f4b4fef",
   "metadata": {},
   "outputs": [
    {
     "ename": "TypeError",
     "evalue": "'tuple' object does not support item assignment",
     "output_type": "error",
     "traceback": [
      "\u001b[1;31m-----------------------------------------------------------------------\u001b[0m",
      "\u001b[1;31mTypeError\u001b[0m                             Traceback (most recent call last)",
      "\u001b[1;32m<ipython-input-1-4aa482503b89>\u001b[0m in \u001b[0;36m<module>\u001b[1;34m\u001b[0m\n\u001b[0;32m      3\u001b[0m \u001b[0mtup3\u001b[0m \u001b[1;33m=\u001b[0m \u001b[1;34m\"a\"\u001b[0m\u001b[1;33m,\u001b[0m \u001b[1;34m\"b\"\u001b[0m\u001b[1;33m,\u001b[0m \u001b[1;34m\"c\"\u001b[0m\u001b[1;33m,\u001b[0m \u001b[1;34m\"d\"\u001b[0m\u001b[1;33m\u001b[0m\u001b[1;33m\u001b[0m\u001b[0m\n\u001b[0;32m      4\u001b[0m \u001b[1;31m#immutable\u001b[0m\u001b[1;33m\u001b[0m\u001b[1;33m\u001b[0m\u001b[1;33m\u001b[0m\u001b[0m\n\u001b[1;32m----> 5\u001b[1;33m \u001b[0mtup1\u001b[0m\u001b[1;33m[\u001b[0m\u001b[1;36m0\u001b[0m\u001b[1;33m]\u001b[0m \u001b[1;33m=\u001b[0m \u001b[1;34m\"maths\"\u001b[0m\u001b[1;33m\u001b[0m\u001b[1;33m\u001b[0m\u001b[0m\n\u001b[0m",
      "\u001b[1;31mTypeError\u001b[0m: 'tuple' object does not support item assignment"
     ]
    }
   ],
   "source": [
    "tup1 = ('physics', 'chemistry', 1997, 2000)\n",
    "tup2 = (1, 2, 3, 4, 5 )\n",
    "tup3 = \"a\", \"b\", \"c\", \"d\"\n"
   ]
  },
  {
   "cell_type": "code",
   "execution_count": 30,
   "id": "f01e0b56-27a8-497d-bec0-1783d43610e5",
   "metadata": {},
   "outputs": [],
   "source": [
    "tup1 = ()"
   ]
  },
  {
   "cell_type": "markdown",
   "id": "32edc6b5-b261-4ceb-858a-03028b6d7279",
   "metadata": {},
   "source": [
    "<p>To write a tuple containing a single value you have to include a comma, even though there is only one value −\n"
   ]
  },
  {
   "cell_type": "code",
   "execution_count": 2,
   "id": "2a685727-fbb3-4dee-aedd-0900c6c9ac65",
   "metadata": {},
   "outputs": [],
   "source": [
    "tup1 = (50,)\n",
    "list1 = [10,]"
   ]
  },
  {
   "cell_type": "markdown",
   "id": "4b2a52b0-d842-47c0-81a9-6e20c4b13698",
   "metadata": {},
   "source": [
    "<p>Like string indices, tuple indices start at 0, and they can be sliced, concatenated, and so on.</p>"
   ]
  },
  {
   "cell_type": "markdown",
   "id": "cb631226-6964-4037-ae34-8dc162ecdd54",
   "metadata": {},
   "source": [
    "<h2>Accessing Values in Tuples</h2>"
   ]
  },
  {
   "cell_type": "markdown",
   "id": "46a522a0-4931-4e99-9d7a-f9148530e792",
   "metadata": {},
   "source": [
    "<p>To access values in tuple, use the square brackets for slicing along with the index or indices to obtain the value available at that index. For example −</p>"
   ]
  },
  {
   "cell_type": "code",
   "execution_count": 32,
   "id": "d0824704-9781-4fe8-922a-2dcaa68ab96f",
   "metadata": {},
   "outputs": [
    {
     "name": "stdout",
     "output_type": "stream",
     "text": [
      "tup1[0]:  physics\n",
      "tup2[1:5]:  (2, 3, 4, 5)\n"
     ]
    }
   ],
   "source": [
    "tup1 = ('physics', 'chemistry', 1997, 2000)\n",
    "tup2 = (1, 2, 3, 4, 5, 6, 7 )\n",
    "\n",
    "print (\"tup1[0]: \", tup1[0])\n",
    "print (\"tup2[1:5]: \", tup2[1:5])"
   ]
  },
  {
   "cell_type": "markdown",
   "id": "25414357-e619-4dc1-900d-c2dd006ff30f",
   "metadata": {},
   "source": [
    "<h2>Updating Tuples</h2>"
   ]
  },
  {
   "cell_type": "code",
   "execution_count": 33,
   "id": "3e30f868-c21c-4b18-8602-acd1d74ba799",
   "metadata": {},
   "outputs": [
    {
     "name": "stdout",
     "output_type": "stream",
     "text": [
      "(12, 34.56, 'abc', 'xyz')\n"
     ]
    }
   ],
   "source": [
    "tup1 = (12, 34.56)\n",
    "tup2 = ('abc', 'xyz')\n",
    "\n",
    "# Following action is not valid for tuples\n",
    "# tup1[0] = 100;\n",
    "\n",
    "# So let's create a new tuple as follows\n",
    "tup3 = tup1 + tup2\n",
    "print (tup3)\n"
   ]
  },
  {
   "cell_type": "markdown",
   "id": "f0bf1bc4-ac9f-4836-8ca8-8e0b6ed25c34",
   "metadata": {},
   "source": [
    "<h2>Delete Tuple Elements</h2>"
   ]
  },
  {
   "cell_type": "code",
   "execution_count": 3,
   "id": "58a8bca4-b3f5-4ae1-83e0-707509013f60",
   "metadata": {},
   "outputs": [
    {
     "name": "stdout",
     "output_type": "stream",
     "text": [
      "['physics', 'chemistry', 1997, 2000]\n",
      "After deleting list1 : \n"
     ]
    },
    {
     "ename": "NameError",
     "evalue": "name 'list1' is not defined",
     "output_type": "error",
     "traceback": [
      "\u001b[1;31m-----------------------------------------------------------------------\u001b[0m",
      "\u001b[1;31mNameError\u001b[0m                             Traceback (most recent call last)",
      "\u001b[1;32m<ipython-input-3-8ea1a43352b0>\u001b[0m in \u001b[0;36m<module>\u001b[1;34m\u001b[0m\n\u001b[0;32m      4\u001b[0m \u001b[1;32mdel\u001b[0m \u001b[0mlist1\u001b[0m\u001b[1;33m\u001b[0m\u001b[1;33m\u001b[0m\u001b[0m\n\u001b[0;32m      5\u001b[0m \u001b[0mprint\u001b[0m \u001b[1;33m(\u001b[0m\u001b[1;34m\"After deleting list1 : \"\u001b[0m\u001b[1;33m)\u001b[0m\u001b[1;33m\u001b[0m\u001b[1;33m\u001b[0m\u001b[0m\n\u001b[1;32m----> 6\u001b[1;33m \u001b[0mprint\u001b[0m \u001b[1;33m(\u001b[0m\u001b[0mlist1\u001b[0m\u001b[1;33m)\u001b[0m\u001b[1;33m\u001b[0m\u001b[1;33m\u001b[0m\u001b[0m\n\u001b[0m",
      "\u001b[1;31mNameError\u001b[0m: name 'list1' is not defined"
     ]
    }
   ],
   "source": [
    "list1 = ['physics', 'chemistry', 1997, 2000]\n",
    "\n",
    "print (list1)\n",
    "del list1\n",
    "print (\"After deleting list1 : \")\n",
    "print (list1)"
   ]
  },
  {
   "cell_type": "markdown",
   "id": "a8593c28-391b-44d0-8300-8f3151a6f051",
   "metadata": {},
   "source": [
    "<h2>Basic Tuples Operations</h2>"
   ]
  },
  {
   "cell_type": "markdown",
   "id": "102c7d3e-ac09-4410-b2e3-a098d0f61103",
   "metadata": {},
   "source": [
    "<table class=\"table table-bordered\" style=\"text-align:center;\">\n",
    "<tbody><tr>\n",
    "<th style=\"text-align:center;\">Python Expression</th>\n",
    "<th style=\"text-align:center;\">Results</th>\n",
    "<th style=\"text-align:center;\">Description</th></tr>\n",
    "<tr>\n",
    "<td>len((1, 2, 3))</td>\n",
    "<td>3</td>\n",
    "<td>Length</td>\n",
    "</tr>\n",
    "<tr>\n",
    "<td>(1, 2, 3) + (4, 5, 6)</td>\n",
    "<td>(1, 2, 3, 4, 5, 6)</td>\n",
    "<td>Concatenation</td></tr>\n",
    "<tr>\n",
    "<td>('Hi!',) * 4</td>\n",
    "<td>('Hi!', 'Hi!', 'Hi!', 'Hi!')</td>\n",
    "<td>Repetition</td>\n",
    "</tr>\n",
    "<tr>\n",
    "<td>3 in (1, 2, 3)</td>\n",
    "<td>True</td>\n",
    "<td>Membership</td>\n",
    "</tr>\n",
    "<tr>\n",
    "<td>for x in (1,2,3) : print (x, end = ' ')</td>\n",
    "<td>1 2 3</td>\n",
    "<td>Iteration</td>\n",
    "</tr>\n",
    "</tbody></table>"
   ]
  },
  {
   "cell_type": "markdown",
   "id": "301a31e0-aa2a-47be-9599-1b541b4f584c",
   "metadata": {},
   "source": [
    "<h2>Indexing, Slicing, and Matrixes</h2>"
   ]
  },
  {
   "cell_type": "code",
   "execution_count": 35,
   "id": "e6f368f7-59a0-4f61-9188-70683d90113a",
   "metadata": {},
   "outputs": [],
   "source": [
    "T=('C++', 'Java', 'Python')"
   ]
  },
  {
   "cell_type": "markdown",
   "id": "01faa56a-a2dc-4da8-a83c-47f80ec869fc",
   "metadata": {},
   "source": [
    "<table class=\"table table-bordered\" style=\"text-align:center;\">\n",
    "<tbody><tr>\n",
    "<th style=\"text-align:center;\">Python Expression</th>\n",
    "<th style=\"text-align:center;\">Results</th>\n",
    "<th style=\"text-align:center;\">Description</th></tr>\n",
    "<tr>\n",
    "<td>T[2]</td>\n",
    "<td>'Python'</td>\n",
    "<td>Offsets start at zero</td>\n",
    "</tr>\n",
    "<tr>\n",
    "<td>T[-2]</td>\n",
    "<td>'Java'</td>\n",
    "<td>Negative: count from the right</td>\n",
    "</tr>\n",
    "<tr>\n",
    "<td>T[1:]</td>\n",
    "<td>('Java', 'Python')</td>\n",
    "<td>Slicing fetches sections</td>\n",
    "</tr>\n",
    "</tbody></table>"
   ]
  },
  {
   "cell_type": "markdown",
   "id": "0ba12059-f07d-4162-84c7-45713a1c087a",
   "metadata": {},
   "source": [
    "<h2>No Enclosing Delimiters</h2>"
   ]
  },
  {
   "cell_type": "markdown",
   "id": "54266588-bba2-4cee-8d78-c05521f3a750",
   "metadata": {},
   "source": [
    "<h2>Built-in Tuple Functions</h2>"
   ]
  },
  {
   "cell_type": "markdown",
   "id": "fe9a1c5a-1e40-4a76-82f1-ff0a904afb2b",
   "metadata": {},
   "source": [
    "<table class=\"table table-bordered\">\n",
    "<tbody><tr>\n",
    "<th style=\"text-align:center;width:5%\">Sr.No.</th>\n",
    "<th style=\"text-align:center;\">Function &amp; Description</th>\n",
    "</tr>\n",
    "<!--<tr>\n",
    "<td class=\"ts\">1</td>\n",
    "<td>\n",
    "<a href=\"/python3/tuple_cmp.htm\">cmp(tuple1, tuple2)</a>\n",
    "<p>Compares elements of both tuples.</p></td>\n",
    "</tr>-->\n",
    "<tr>\n",
    "<td class=\"ts\">1</td>\n",
    "<td>\n",
    "<a href=\"/python3/tuple_len.htm\">len(tuple)</a>\n",
    "<p>Gives the total length of the tuple.</p></td>\n",
    "</tr>\n",
    "<tr>\n",
    "<td class=\"ts\">2</td>\n",
    "<td>\n",
    "<a href=\"/python3/tuple_max.htm\">max(tuple)</a>\n",
    "<p>Returns item from the tuple with max value.</p></td>\n",
    "</tr>\n",
    "<tr>\n",
    "<td class=\"ts\">3</td>\n",
    "<td>\n",
    "<a href=\"/python3/tuple_min.htm\">min(tuple)</a>\n",
    "<p>Returns item from the tuple with min value.</p></td></tr>\n",
    "<tr>\n",
    "<td class=\"ts\">4</td>\n",
    "<td>\n",
    "<a href=\"/python3/tuple_tuple.htm\">tuple(seq)</a>\n",
    "<p>Converts a list into tuple.</p></td>\n",
    "</tr>\n",
    "</tbody></table>"
   ]
  }
 ],
 "metadata": {
  "kernelspec": {
   "display_name": "Python 3",
   "language": "python",
   "name": "python3"
  },
  "language_info": {
   "codemirror_mode": {
    "name": "ipython",
    "version": 3
   },
   "file_extension": ".py",
   "mimetype": "text/x-python",
   "name": "python",
   "nbconvert_exporter": "python",
   "pygments_lexer": "ipython3",
   "version": "3.9.4"
  }
 },
 "nbformat": 4,
 "nbformat_minor": 5
}
